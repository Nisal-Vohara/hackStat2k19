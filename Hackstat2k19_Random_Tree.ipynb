{
 "cells": [
  {
   "cell_type": "code",
   "execution_count": 1,
   "metadata": {},
   "outputs": [],
   "source": [
    "#Import libraries\n",
    "from sklearn import datasets\n",
    "import pandas as pd\n",
    "from sklearn.model_selection import train_test_split\n",
    "from sklearn import metrics\n",
    "from sklearn.ensemble import RandomForestClassifier\n",
    "\n",
    "#Load dataset\n",
    "iris = datasets.load_iris()"
   ]
  },
  {
   "cell_type": "code",
   "execution_count": 2,
   "metadata": {},
   "outputs": [],
   "source": [
    "dataframe_train_dev = pd.read_csv('Hackstat2k19/Trainset.csv')"
   ]
  },
  {
   "cell_type": "code",
   "execution_count": 3,
   "metadata": {},
   "outputs": [],
   "source": [
    "dataframe_train_dev=dataframe_train_dev.rename(columns={\"Homepage _Duration\":\"Homepage_Duration\"})\n",
    "dataframe_train_dev=dataframe_train_dev.dropna(axis = 0, how ='any')"
   ]
  },
  {
   "cell_type": "code",
   "execution_count": 4,
   "metadata": {},
   "outputs": [
    {
     "data": {
      "text/plain": [
       "(10466, 18)"
      ]
     },
     "execution_count": 4,
     "metadata": {},
     "output_type": "execute_result"
    }
   ],
   "source": [
    "dataframe_train_dev.shape"
   ]
  },
  {
   "cell_type": "code",
   "execution_count": 5,
   "metadata": {},
   "outputs": [],
   "source": [
    "dataframe_train_dev[\"Weekend\"] = dataframe_train_dev[\"Weekend\"].map(lambda x: 1 if x == True else 0)\n",
    "dataframe_train_dev[\"VisitorType\"] = dataframe_train_dev[\"VisitorType\"].map(lambda x: 1 if x == 'Returning_Visitor' else 0)\n",
    "dataframe_train_dev[\"Month\"] = dataframe_train_dev[\"Month\"].map(lambda x: 1 if x == 'Jan' else (2 if x == 'Feb' else (3 if x == 'Mar' else (4 if x == 'Apr' else (5 if x == 'May' else (6 if x == 'Jun' else (7 if x == 'Jul' else (8 if x == 'Aug' else (9 if x == 'Sep' else (10 if x == 'Oct' else (11 if x == 'Nov' else (12))))))))))))"
   ]
  },
  {
   "cell_type": "code",
   "execution_count": 6,
   "metadata": {},
   "outputs": [],
   "source": [
    "def seperate_features_targets(dataframe):\n",
    "    \"\"\"Prepares input features from data set.\n",
    "\n",
    "    Args:\n",
    "    dataframe: A Pandas DataFrame expected to contain data\n",
    "      from data set.\n",
    "    Returns:\n",
    "    A DataFrame that contains the features to be used for the model, including\n",
    "    synthetic features.\n",
    "    \"\"\"\n",
    "    #return dataframe[list(dataframe)[0:-1]].copy() , dataframe[[list(dataframe)[-1]]].copy()\n",
    "    \n",
    "    selected_features = dataframe[\n",
    "        [\n",
    "        'Homepage',\n",
    "        'Homepage_Duration',\n",
    "        'Aboutus',\n",
    "        'Aboutus_Duration',\n",
    "        'Contactus',\n",
    "        'Contactus_Duration',\n",
    "        'BounceRates',\n",
    "        'ExitRates',\n",
    "        'PageValues',\n",
    "        'SpecialDay',\n",
    "        'Month',\n",
    "        'OperatingSystems',\n",
    "        'Browser',\n",
    "        'Province',\n",
    "        'TrafficType',\n",
    "        'VisitorType',\n",
    "        'Weekend'#,\n",
    "        #'Revenue'\n",
    "        ]]\n",
    "\n",
    "    selected_target=dataframe[[\"Revenue\"]]\n",
    "\n",
    "    return selected_features,selected_target"
   ]
  },
  {
   "cell_type": "code",
   "execution_count": 7,
   "metadata": {},
   "outputs": [],
   "source": [
    "# Split the data(10466 Total) into test(8366) and validation(2100) sets \n",
    "X,y = seperate_features_targets(dataframe_train_dev)\n",
    "training_examples,validation_examples,training_targets,validation_targets = train_test_split(X,y,test_size=0.1,random_state=42, stratify=y)"
   ]
  },
  {
   "cell_type": "code",
   "execution_count": 8,
   "metadata": {},
   "outputs": [],
   "source": [
    "training_examples = training_examples.values\n",
    "training_targets = training_targets.values\n",
    "validation_examples = validation_examples.values\n",
    "validation_targets = validation_targets.values"
   ]
  },
  {
   "cell_type": "code",
   "execution_count": 9,
   "metadata": {},
   "outputs": [
    {
     "data": {
      "text/plain": [
       "(1047, 17)"
      ]
     },
     "execution_count": 9,
     "metadata": {},
     "output_type": "execute_result"
    }
   ],
   "source": [
    "validation_examples.shape"
   ]
  },
  {
   "cell_type": "code",
   "execution_count": 10,
   "metadata": {},
   "outputs": [
    {
     "name": "stderr",
     "output_type": "stream",
     "text": [
      "c:\\users\\nisal\\appdata\\local\\programs\\python\\python37\\lib\\site-packages\\ipykernel_launcher.py:5: DataConversionWarning: A column-vector y was passed when a 1d array was expected. Please change the shape of y to (n_samples,), for example using ravel().\n",
      "  \"\"\"\n"
     ]
    }
   ],
   "source": [
    "#Create a Gaussian Classifier\n",
    "clf=RandomForestClassifier(n_estimators=100)\n",
    "\n",
    "#Train the model using the training sets y_pred=clf.predict(X_test)\n",
    "clf.fit(training_examples,training_targets)\n",
    "\n",
    "y_pred=clf.predict(validation_examples)"
   ]
  },
  {
   "cell_type": "code",
   "execution_count": 11,
   "metadata": {},
   "outputs": [
    {
     "name": "stdout",
     "output_type": "stream",
     "text": [
      "Accuracy: 0.9092645654250239\n"
     ]
    }
   ],
   "source": [
    "# Model Accuracy, how often is the classifier correct?\n",
    "print(\"Accuracy:\",metrics.accuracy_score(validation_targets, y_pred))"
   ]
  },
  {
   "cell_type": "code",
   "execution_count": 12,
   "metadata": {},
   "outputs": [],
   "source": [
    "dataframe_test_dev = pd.read_csv('Hackstat2k19/xtest.csv')\n",
    "dataframe_test_dev=dataframe_test_dev.rename(columns={\"Homepage _Duration\":\"Homepage_Duration\"})\n",
    "dataframe_test_dev=dataframe_test_dev.dropna(axis = 0, how ='any')\n",
    "dataframe_test_dev[\"Weekend\"] = dataframe_test_dev[\"Weekend\"].map(lambda x: 1 if x == True else 0)\n",
    "dataframe_test_dev[\"VisitorType\"] = dataframe_test_dev[\"VisitorType\"].map(lambda x: 1 if x == 'Returning_Visitor' else 0)\n",
    "dataframe_test_dev[\"Month\"] = dataframe_test_dev[\"Month\"].map(lambda x: 1 if x == 'Jan' else (2 if x == 'Feb' else (3 if x == 'Mar' else (4 if x == 'Apr' else (5 if x == 'May' else (6 if x == 'Jun' else (7 if x == 'Jul' else (8 if x == 'Aug' else (9 if x == 'Sep' else (10 if x == 'Oct' else (11 if x == 'Nov' else (12))))))))))))"
   ]
  },
  {
   "cell_type": "code",
   "execution_count": 13,
   "metadata": {},
   "outputs": [],
   "source": [
    "x_test = dataframe_test_dev[\n",
    "        [\n",
    "        'Homepage',\n",
    "        'Homepage_Duration',\n",
    "        'Aboutus',\n",
    "        'Aboutus_Duration',\n",
    "        'Contactus',\n",
    "        'Contactus_Duration',\n",
    "        'BounceRates',\n",
    "        'ExitRates',\n",
    "        'PageValues',\n",
    "        'SpecialDay',\n",
    "        'Month',\n",
    "        'OperatingSystems',\n",
    "        'Browser',\n",
    "        'Province',\n",
    "        'TrafficType',\n",
    "        'VisitorType',\n",
    "        'Weekend'#,\n",
    "        #'Revenue'\n",
    "        ]]\n",
    "y_test = dataframe_test_dev[\n",
    "        [\"ID\"\n",
    "        ]]"
   ]
  },
  {
   "cell_type": "code",
   "execution_count": 14,
   "metadata": {},
   "outputs": [],
   "source": [
    "x_test =x_test.values\n",
    "y_test = y_test.values"
   ]
  },
  {
   "cell_type": "code",
   "execution_count": 15,
   "metadata": {},
   "outputs": [
    {
     "name": "stderr",
     "output_type": "stream",
     "text": [
      "c:\\users\\nisal\\appdata\\local\\programs\\python\\python37\\lib\\site-packages\\ipykernel_launcher.py:1: DataConversionWarning: A column-vector y was passed when a 1d array was expected. Please change the shape of y to (n_samples,), for example using ravel().\n",
      "  \"\"\"Entry point for launching an IPython kernel.\n"
     ]
    },
    {
     "data": {
      "text/plain": [
       "RandomForestClassifier(bootstrap=True, class_weight=None, criterion='gini',\n",
       "                       max_depth=None, max_features='auto', max_leaf_nodes=None,\n",
       "                       min_impurity_decrease=0.0, min_impurity_split=None,\n",
       "                       min_samples_leaf=1, min_samples_split=2,\n",
       "                       min_weight_fraction_leaf=0.0, n_estimators=100,\n",
       "                       n_jobs=None, oob_score=False, random_state=None,\n",
       "                       verbose=0, warm_start=False)"
      ]
     },
     "execution_count": 15,
     "metadata": {},
     "output_type": "execute_result"
    }
   ],
   "source": [
    "clf.fit(training_examples,training_targets)"
   ]
  },
  {
   "cell_type": "code",
   "execution_count": 16,
   "metadata": {},
   "outputs": [],
   "source": [
    "y_test_pred = clf.predict(x_test)"
   ]
  },
  {
   "cell_type": "code",
   "execution_count": 17,
   "metadata": {},
   "outputs": [],
   "source": [
    "ID = pd.DataFrame(dataframe_test_dev,columns = [\"ID\"])\n",
    "y_test_pred = pd.DataFrame(y_test_pred,columns = [\"Revenue\"])"
   ]
  },
  {
   "cell_type": "code",
   "execution_count": 19,
   "metadata": {},
   "outputs": [],
   "source": [
    "res =  pd.concat([ID, y_test_pred], axis=1) \n",
    "res.to_csv(\"submit_Random Tree.csv\" , index=False)"
   ]
  },
  {
   "cell_type": "code",
   "execution_count": null,
   "metadata": {},
   "outputs": [],
   "source": []
  },
  {
   "cell_type": "code",
   "execution_count": null,
   "metadata": {},
   "outputs": [],
   "source": []
  }
 ],
 "metadata": {
  "kernelspec": {
   "display_name": "Python 3",
   "language": "python",
   "name": "python3"
  },
  "language_info": {
   "codemirror_mode": {
    "name": "ipython",
    "version": 3
   },
   "file_extension": ".py",
   "mimetype": "text/x-python",
   "name": "python",
   "nbconvert_exporter": "python",
   "pygments_lexer": "ipython3",
   "version": "3.7.3"
  }
 },
 "nbformat": 4,
 "nbformat_minor": 2
}
