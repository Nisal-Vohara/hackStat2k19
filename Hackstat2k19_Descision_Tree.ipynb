{
 "cells": [
  {
   "cell_type": "code",
   "execution_count": 1,
   "metadata": {},
   "outputs": [],
   "source": [
    "# Load libraries\n",
    "import pandas as pd\n",
    "from sklearn.tree import DecisionTreeClassifier # Import Decision Tree Classifier\n",
    "from sklearn.model_selection import train_test_split # Import train_test_split function\n",
    "from sklearn import metrics #Import scikit-learn metrics module for accuracy calculation"
   ]
  },
  {
   "cell_type": "code",
   "execution_count": 4,
   "metadata": {},
   "outputs": [],
   "source": [
    "pima = pd.read_csv('Hackstat2k19/Trainset.csv')\n",
    "pima=pima.rename(columns={\"Homepage _Duration\":\"Homepage_Duration\"})\n",
    "pima=pima.dropna(axis = 0, how ='any')"
   ]
  },
  {
   "cell_type": "code",
   "execution_count": 5,
   "metadata": {},
   "outputs": [
    {
     "data": {
      "text/html": [
       "<div>\n",
       "<style scoped>\n",
       "    .dataframe tbody tr th:only-of-type {\n",
       "        vertical-align: middle;\n",
       "    }\n",
       "\n",
       "    .dataframe tbody tr th {\n",
       "        vertical-align: top;\n",
       "    }\n",
       "\n",
       "    .dataframe thead th {\n",
       "        text-align: right;\n",
       "    }\n",
       "</style>\n",
       "<table border=\"1\" class=\"dataframe\">\n",
       "  <thead>\n",
       "    <tr style=\"text-align: right;\">\n",
       "      <th></th>\n",
       "      <th>Homepage</th>\n",
       "      <th>Homepage_Duration</th>\n",
       "      <th>Aboutus</th>\n",
       "      <th>Aboutus_Duration</th>\n",
       "      <th>Contactus</th>\n",
       "      <th>Contactus_Duration</th>\n",
       "      <th>BounceRates</th>\n",
       "      <th>ExitRates</th>\n",
       "      <th>PageValues</th>\n",
       "      <th>SpecialDay</th>\n",
       "      <th>Month</th>\n",
       "      <th>OperatingSystems</th>\n",
       "      <th>Browser</th>\n",
       "      <th>Province</th>\n",
       "      <th>TrafficType</th>\n",
       "      <th>VisitorType</th>\n",
       "      <th>Weekend</th>\n",
       "      <th>Revenue</th>\n",
       "    </tr>\n",
       "  </thead>\n",
       "  <tbody>\n",
       "    <tr>\n",
       "      <th>0</th>\n",
       "      <td>1.0</td>\n",
       "      <td>10.0</td>\n",
       "      <td>0.0</td>\n",
       "      <td>0.0</td>\n",
       "      <td>9.0</td>\n",
       "      <td>700.000000</td>\n",
       "      <td>0.000000</td>\n",
       "      <td>0.011111</td>\n",
       "      <td>29.621890</td>\n",
       "      <td>0.0</td>\n",
       "      <td>Dec</td>\n",
       "      <td>2</td>\n",
       "      <td>2</td>\n",
       "      <td>9</td>\n",
       "      <td>10</td>\n",
       "      <td>Returning_Visitor</td>\n",
       "      <td>False</td>\n",
       "      <td>1</td>\n",
       "    </tr>\n",
       "    <tr>\n",
       "      <th>1</th>\n",
       "      <td>2.0</td>\n",
       "      <td>15.0</td>\n",
       "      <td>0.0</td>\n",
       "      <td>0.0</td>\n",
       "      <td>10.0</td>\n",
       "      <td>894.666667</td>\n",
       "      <td>0.000000</td>\n",
       "      <td>0.022222</td>\n",
       "      <td>0.000000</td>\n",
       "      <td>0.0</td>\n",
       "      <td>May</td>\n",
       "      <td>2</td>\n",
       "      <td>4</td>\n",
       "      <td>4</td>\n",
       "      <td>2</td>\n",
       "      <td>Returning_Visitor</td>\n",
       "      <td>False</td>\n",
       "      <td>0</td>\n",
       "    </tr>\n",
       "    <tr>\n",
       "      <th>2</th>\n",
       "      <td>1.0</td>\n",
       "      <td>85.0</td>\n",
       "      <td>0.0</td>\n",
       "      <td>0.0</td>\n",
       "      <td>14.0</td>\n",
       "      <td>306.500000</td>\n",
       "      <td>0.000000</td>\n",
       "      <td>0.004444</td>\n",
       "      <td>0.000000</td>\n",
       "      <td>0.0</td>\n",
       "      <td>Mar</td>\n",
       "      <td>2</td>\n",
       "      <td>2</td>\n",
       "      <td>3</td>\n",
       "      <td>2</td>\n",
       "      <td>Returning_Visitor</td>\n",
       "      <td>False</td>\n",
       "      <td>0</td>\n",
       "    </tr>\n",
       "    <tr>\n",
       "      <th>3</th>\n",
       "      <td>5.0</td>\n",
       "      <td>175.1</td>\n",
       "      <td>0.0</td>\n",
       "      <td>0.0</td>\n",
       "      <td>26.0</td>\n",
       "      <td>615.559524</td>\n",
       "      <td>0.000000</td>\n",
       "      <td>0.002083</td>\n",
       "      <td>62.773672</td>\n",
       "      <td>0.0</td>\n",
       "      <td>Sep</td>\n",
       "      <td>1</td>\n",
       "      <td>1</td>\n",
       "      <td>1</td>\n",
       "      <td>3</td>\n",
       "      <td>New_Visitor</td>\n",
       "      <td>True</td>\n",
       "      <td>1</td>\n",
       "    </tr>\n",
       "    <tr>\n",
       "      <th>4</th>\n",
       "      <td>2.0</td>\n",
       "      <td>25.0</td>\n",
       "      <td>0.0</td>\n",
       "      <td>0.0</td>\n",
       "      <td>5.0</td>\n",
       "      <td>40.000000</td>\n",
       "      <td>0.066667</td>\n",
       "      <td>0.083333</td>\n",
       "      <td>0.000000</td>\n",
       "      <td>0.6</td>\n",
       "      <td>May</td>\n",
       "      <td>2</td>\n",
       "      <td>2</td>\n",
       "      <td>1</td>\n",
       "      <td>1</td>\n",
       "      <td>Returning_Visitor</td>\n",
       "      <td>False</td>\n",
       "      <td>0</td>\n",
       "    </tr>\n",
       "  </tbody>\n",
       "</table>\n",
       "</div>"
      ],
      "text/plain": [
       "   Homepage  Homepage_Duration  Aboutus  Aboutus_Duration  Contactus  \\\n",
       "0       1.0               10.0      0.0               0.0        9.0   \n",
       "1       2.0               15.0      0.0               0.0       10.0   \n",
       "2       1.0               85.0      0.0               0.0       14.0   \n",
       "3       5.0              175.1      0.0               0.0       26.0   \n",
       "4       2.0               25.0      0.0               0.0        5.0   \n",
       "\n",
       "   Contactus_Duration  BounceRates  ExitRates  PageValues  SpecialDay Month  \\\n",
       "0          700.000000     0.000000   0.011111   29.621890         0.0   Dec   \n",
       "1          894.666667     0.000000   0.022222    0.000000         0.0   May   \n",
       "2          306.500000     0.000000   0.004444    0.000000         0.0   Mar   \n",
       "3          615.559524     0.000000   0.002083   62.773672         0.0   Sep   \n",
       "4           40.000000     0.066667   0.083333    0.000000         0.6   May   \n",
       "\n",
       "   OperatingSystems  Browser  Province  TrafficType        VisitorType  \\\n",
       "0                 2        2         9           10  Returning_Visitor   \n",
       "1                 2        4         4            2  Returning_Visitor   \n",
       "2                 2        2         3            2  Returning_Visitor   \n",
       "3                 1        1         1            3        New_Visitor   \n",
       "4                 2        2         1            1  Returning_Visitor   \n",
       "\n",
       "   Weekend  Revenue  \n",
       "0    False        1  \n",
       "1    False        0  \n",
       "2    False        0  \n",
       "3     True        1  \n",
       "4    False        0  "
      ]
     },
     "execution_count": 5,
     "metadata": {},
     "output_type": "execute_result"
    }
   ],
   "source": [
    "pima.head()"
   ]
  },
  {
   "cell_type": "code",
   "execution_count": 6,
   "metadata": {},
   "outputs": [],
   "source": [
    "pima[\"Weekend\"] = pima[\"Weekend\"].map(lambda x: 1 if x == True else 0)\n",
    "pima[\"VisitorType\"] = pima[\"VisitorType\"].map(lambda x: 1 if x == 'Returning_Visitor' else 0)\n",
    "pima[\"Month\"] = pima[\"Month\"].map(lambda x: 1 if x == 'Jan' else (2 if x == 'Feb' else (3 if x == 'Mar' else (4 if x == 'Apr' else (5 if x == 'May' else (6 if x == 'Jun' else (7 if x == 'Jul' else (8 if x == 'Aug' else (9 if x == 'Sep' else (10 if x == 'Oct' else (11 if x == 'Nov' else (12))))))))))))"
   ]
  },
  {
   "cell_type": "code",
   "execution_count": 7,
   "metadata": {},
   "outputs": [],
   "source": [
    "def seperate_features_targets(dataframe):\n",
    "    \"\"\"Prepares input features from data set.\n",
    "\n",
    "    Args:\n",
    "    dataframe: A Pandas DataFrame expected to contain data\n",
    "      from data set.\n",
    "    Returns:\n",
    "    A DataFrame that contains the features to be used for the model, including\n",
    "    synthetic features.\n",
    "    \"\"\"\n",
    "    #return dataframe[list(dataframe)[0:-1]].copy() , dataframe[[list(dataframe)[-1]]].copy()\n",
    "    \n",
    "    selected_features = dataframe[\n",
    "        [\n",
    "        'Homepage',\n",
    "        'Homepage_Duration',\n",
    "        'Aboutus',\n",
    "        'Aboutus_Duration',\n",
    "        'Contactus',\n",
    "        'Contactus_Duration',\n",
    "        'BounceRates',\n",
    "        'ExitRates',\n",
    "        'PageValues',\n",
    "        'SpecialDay',\n",
    "        'Month',\n",
    "        'OperatingSystems',\n",
    "        'Browser',\n",
    "        'Province',\n",
    "        'TrafficType',\n",
    "        'VisitorType',\n",
    "        'Weekend'#,\n",
    "        #'Revenue'\n",
    "        ]]\n",
    "\n",
    "    selected_target=dataframe[[\"Revenue\"]]\n",
    "\n",
    "    return selected_features,selected_target"
   ]
  },
  {
   "cell_type": "code",
   "execution_count": 9,
   "metadata": {},
   "outputs": [],
   "source": [
    "# Split the data(10466 Total) into test(8366) and validation(2100) sets \n",
    "X,y = seperate_features_targets(pima)\n",
    "training_examples,validation_examples,training_targets,validation_targets = train_test_split(X,y,test_size=0.1,random_state=42, stratify=y)"
   ]
  },
  {
   "cell_type": "code",
   "execution_count": 10,
   "metadata": {},
   "outputs": [],
   "source": [
    "training_examples = training_examples.values\n",
    "training_targets = training_targets.values\n",
    "validation_examples = validation_examples.values\n",
    "validation_targets = validation_targets.values"
   ]
  },
  {
   "cell_type": "code",
   "execution_count": 11,
   "metadata": {},
   "outputs": [
    {
     "data": {
      "text/plain": [
       "(1047, 17)"
      ]
     },
     "execution_count": 11,
     "metadata": {},
     "output_type": "execute_result"
    }
   ],
   "source": [
    "validation_examples.shape"
   ]
  },
  {
   "cell_type": "code",
   "execution_count": 12,
   "metadata": {},
   "outputs": [],
   "source": [
    "# Create Decision Tree classifer object\n",
    "clf = DecisionTreeClassifier()\n",
    "\n",
    "# Train Decision Tree Classifer\n",
    "clf = clf.fit(training_examples,training_targets)\n",
    "\n",
    "#Predict the response for test dataset\n",
    "y_pred = clf.predict(validation_examples)"
   ]
  },
  {
   "cell_type": "code",
   "execution_count": 13,
   "metadata": {},
   "outputs": [
    {
     "name": "stdout",
     "output_type": "stream",
     "text": [
      "Accuracy: 0.8662846227316141\n"
     ]
    }
   ],
   "source": [
    "# Model Accuracy, how often is the classifier correct?\n",
    "print(\"Accuracy:\",metrics.accuracy_score(validation_targets, y_pred))"
   ]
  },
  {
   "cell_type": "code",
   "execution_count": 16,
   "metadata": {},
   "outputs": [],
   "source": [
    "from sklearn.tree import export_graphviz\n",
    "from sklearn.externals.six import StringIO  \n",
    "from IPython.display import Image  \n",
    "import pydotplus"
   ]
  },
  {
   "cell_type": "code",
   "execution_count": 21,
   "metadata": {},
   "outputs": [
    {
     "data": {
      "text/plain": [
       "\"\\nfeature_cols = [\\n        'Homepage',\\n        'Homepage_Duration',\\n        'Aboutus',\\n        'Aboutus_Duration',\\n        'Contactus',\\n        'Contactus_Duration',\\n        'BounceRates',\\n        'ExitRates',\\n        'PageValues',\\n        'SpecialDay',\\n        'Month',\\n        'OperatingSystems',\\n        'Browser',\\n        'Province',\\n        'TrafficType',\\n        'VisitorType',\\n        'Weekend'#,\\n        #'Revenue'\\n        ]\\ndot_data = StringIO()\\nexport_graphviz(clf, out_file=dot_data,  \\n                filled=True, rounded=True,\\n                special_characters=True,feature_names = feature_cols,class_names=['0','1'])\\ngraph = pydotplus.graph_from_dot_data(dot_data.getvalue())  \\ngraph.write_png('Revenue.png')\\nImage(graph.create_png())\\n\""
      ]
     },
     "execution_count": 21,
     "metadata": {},
     "output_type": "execute_result"
    }
   ],
   "source": [
    "'''\n",
    "feature_cols = [\n",
    "        'Homepage',\n",
    "        'Homepage_Duration',\n",
    "        'Aboutus',\n",
    "        'Aboutus_Duration',\n",
    "        'Contactus',\n",
    "        'Contactus_Duration',\n",
    "        'BounceRates',\n",
    "        'ExitRates',\n",
    "        'PageValues',\n",
    "        'SpecialDay',\n",
    "        'Month',\n",
    "        'OperatingSystems',\n",
    "        'Browser',\n",
    "        'Province',\n",
    "        'TrafficType',\n",
    "        'VisitorType',\n",
    "        'Weekend'#,\n",
    "        #'Revenue'\n",
    "        ]\n",
    "dot_data = StringIO()\n",
    "export_graphviz(clf, out_file=dot_data,  \n",
    "                filled=True, rounded=True,\n",
    "                special_characters=True,feature_names = feature_cols,class_names=['0','1'])\n",
    "graph = pydotplus.graph_from_dot_data(dot_data.getvalue())  \n",
    "graph.write_png('Revenue.png')\n",
    "Image(graph.create_png())\n",
    "'''"
   ]
  },
  {
   "cell_type": "code",
   "execution_count": 52,
   "metadata": {},
   "outputs": [
    {
     "name": "stdout",
     "output_type": "stream",
     "text": [
      "Accuracy: 0.9140401146131805\n"
     ]
    }
   ],
   "source": [
    "# Create Decision Tree classifer object\n",
    "#clf = DecisionTreeClassifier(criterion=\"entropy\", max_depth=3)\n",
    "clf = DecisionTreeClassifier(criterion=\"entropy\", max_depth=8)\n",
    "\n",
    "# Train Decision Tree Classifer\n",
    "clf = clf.fit(training_examples,training_targets)\n",
    "\n",
    "#Predict the response for test dataset\n",
    "y_pred = clf.predict(validation_examples)\n",
    "\n",
    "# Model Accuracy, how often is the classifier correct?\n",
    "print(\"Accuracy:\",metrics.accuracy_score(validation_targets, y_pred))"
   ]
  },
  {
   "cell_type": "code",
   "execution_count": 53,
   "metadata": {},
   "outputs": [],
   "source": [
    "dataframe_test_dev = pd.read_csv('Hackstat2k19/xtest.csv')\n",
    "dataframe_test_dev=dataframe_test_dev.rename(columns={\"Homepage _Duration\":\"Homepage_Duration\"})\n",
    "dataframe_test_dev=dataframe_test_dev.dropna(axis = 0, how ='any')\n",
    "dataframe_test_dev[\"Weekend\"] = dataframe_test_dev[\"Weekend\"].map(lambda x: 1 if x == True else 0)\n",
    "dataframe_test_dev[\"VisitorType\"] = dataframe_test_dev[\"VisitorType\"].map(lambda x: 1 if x == 'Returning_Visitor' else 0)\n",
    "dataframe_test_dev[\"Month\"] = dataframe_test_dev[\"Month\"].map(lambda x: 1 if x == 'Jan' else (2 if x == 'Feb' else (3 if x == 'Mar' else (4 if x == 'Apr' else (5 if x == 'May' else (6 if x == 'Jun' else (7 if x == 'Jul' else (8 if x == 'Aug' else (9 if x == 'Sep' else (10 if x == 'Oct' else (11 if x == 'Nov' else (12))))))))))))"
   ]
  },
  {
   "cell_type": "code",
   "execution_count": 54,
   "metadata": {},
   "outputs": [],
   "source": [
    "x_test = dataframe_test_dev[\n",
    "        [\n",
    "        'Homepage',\n",
    "        'Homepage_Duration',\n",
    "        'Aboutus',\n",
    "        'Aboutus_Duration',\n",
    "        'Contactus',\n",
    "        'Contactus_Duration',\n",
    "        'BounceRates',\n",
    "        'ExitRates',\n",
    "        'PageValues',\n",
    "        'SpecialDay',\n",
    "        'Month',\n",
    "        'OperatingSystems',\n",
    "        'Browser',\n",
    "        'Province',\n",
    "        'TrafficType',\n",
    "        'VisitorType',\n",
    "        'Weekend'#,\n",
    "        #'Revenue'\n",
    "        ]]\n",
    "y_test = dataframe_test_dev[\n",
    "        [\"ID\"\n",
    "        ]]"
   ]
  },
  {
   "cell_type": "code",
   "execution_count": 55,
   "metadata": {},
   "outputs": [],
   "source": [
    "x_test =x_test.values"
   ]
  },
  {
   "cell_type": "code",
   "execution_count": 56,
   "metadata": {},
   "outputs": [
    {
     "data": {
      "text/plain": [
       "(1850, 17)"
      ]
     },
     "execution_count": 56,
     "metadata": {},
     "output_type": "execute_result"
    }
   ],
   "source": [
    "x_test.shape"
   ]
  },
  {
   "cell_type": "code",
   "execution_count": 57,
   "metadata": {},
   "outputs": [
    {
     "data": {
      "text/plain": [
       "(1850, 1)"
      ]
     },
     "execution_count": 57,
     "metadata": {},
     "output_type": "execute_result"
    }
   ],
   "source": [
    "y_test = y_test.values\n",
    "y_test.shape"
   ]
  },
  {
   "cell_type": "code",
   "execution_count": 58,
   "metadata": {},
   "outputs": [],
   "source": [
    "clf = clf.fit(training_examples,training_targets)"
   ]
  },
  {
   "cell_type": "code",
   "execution_count": 59,
   "metadata": {},
   "outputs": [],
   "source": [
    "y_test_pred = clf.predict(x_test)"
   ]
  },
  {
   "cell_type": "code",
   "execution_count": 32,
   "metadata": {},
   "outputs": [
    {
     "data": {
      "text/plain": [
       "array([0, 0, 0, ..., 0, 0, 0], dtype=int64)"
      ]
     },
     "execution_count": 32,
     "metadata": {},
     "output_type": "execute_result"
    }
   ],
   "source": [
    "y_test_pred"
   ]
  },
  {
   "cell_type": "code",
   "execution_count": 60,
   "metadata": {},
   "outputs": [],
   "source": [
    "ID = pd.DataFrame(dataframe_test_dev,columns = [\"ID\"])"
   ]
  },
  {
   "cell_type": "code",
   "execution_count": 61,
   "metadata": {},
   "outputs": [],
   "source": [
    "y_test_pred = pd.DataFrame(y_test_pred,columns = [\"Revenue\"])"
   ]
  },
  {
   "cell_type": "code",
   "execution_count": 62,
   "metadata": {},
   "outputs": [],
   "source": [
    "res =  pd.concat([ID, y_test_pred], axis=1) \n",
    "res.to_csv(\"submit_Descision Tree.csv\" , index=False)"
   ]
  },
  {
   "cell_type": "code",
   "execution_count": null,
   "metadata": {},
   "outputs": [],
   "source": []
  }
 ],
 "metadata": {
  "kernelspec": {
   "display_name": "Python 3",
   "language": "python",
   "name": "python3"
  },
  "language_info": {
   "codemirror_mode": {
    "name": "ipython",
    "version": 3
   },
   "file_extension": ".py",
   "mimetype": "text/x-python",
   "name": "python",
   "nbconvert_exporter": "python",
   "pygments_lexer": "ipython3",
   "version": "3.7.3"
  }
 },
 "nbformat": 4,
 "nbformat_minor": 2
}
